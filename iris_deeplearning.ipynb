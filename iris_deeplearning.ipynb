{
 "cells": [
  {
   "cell_type": "code",
   "execution_count": 1,
   "metadata": {},
   "outputs": [],
   "source": [
    "import numpy as np"
   ]
  },
  {
   "cell_type": "code",
   "execution_count": 2,
   "metadata": {},
   "outputs": [],
   "source": [
    "from sklearn.datasets import load_iris"
   ]
  },
  {
   "cell_type": "code",
   "execution_count": 3,
   "metadata": {},
   "outputs": [],
   "source": [
    "iris=load_iris()"
   ]
  },
  {
   "cell_type": "code",
   "execution_count": 4,
   "metadata": {},
   "outputs": [
    {
     "data": {
      "text/plain": [
       "sklearn.utils.Bunch"
      ]
     },
     "execution_count": 4,
     "metadata": {},
     "output_type": "execute_result"
    }
   ],
   "source": [
    "type(iris)"
   ]
  },
  {
   "cell_type": "code",
   "execution_count": 7,
   "metadata": {},
   "outputs": [
    {
     "name": "stdout",
     "output_type": "stream",
     "text": [
      ".. _iris_dataset:\n",
      "\n",
      "Iris plants dataset\n",
      "--------------------\n",
      "\n",
      "**Data Set Characteristics:**\n",
      "\n",
      "    :Number of Instances: 150 (50 in each of three classes)\n",
      "    :Number of Attributes: 4 numeric, predictive attributes and the class\n",
      "    :Attribute Information:\n",
      "        - sepal length in cm\n",
      "        - sepal width in cm\n",
      "        - petal length in cm\n",
      "        - petal width in cm\n",
      "        - class:\n",
      "                - Iris-Setosa\n",
      "                - Iris-Versicolour\n",
      "                - Iris-Virginica\n",
      "                \n",
      "    :Summary Statistics:\n",
      "\n",
      "    ============== ==== ==== ======= ===== ====================\n",
      "                    Min  Max   Mean    SD   Class Correlation\n",
      "    ============== ==== ==== ======= ===== ====================\n",
      "    sepal length:   4.3  7.9   5.84   0.83    0.7826\n",
      "    sepal width:    2.0  4.4   3.05   0.43   -0.4194\n",
      "    petal length:   1.0  6.9   3.76   1.76    0.9490  (high!)\n",
      "    petal width:    0.1  2.5   1.20   0.76    0.9565  (high!)\n",
      "    ============== ==== ==== ======= ===== ====================\n",
      "\n",
      "    :Missing Attribute Values: None\n",
      "    :Class Distribution: 33.3% for each of 3 classes.\n",
      "    :Creator: R.A. Fisher\n",
      "    :Donor: Michael Marshall (MARSHALL%PLU@io.arc.nasa.gov)\n",
      "    :Date: July, 1988\n",
      "\n",
      "The famous Iris database, first used by Sir R.A. Fisher. The dataset is taken\n",
      "from Fisher's paper. Note that it's the same as in R, but not as in the UCI\n",
      "Machine Learning Repository, which has two wrong data points.\n",
      "\n",
      "This is perhaps the best known database to be found in the\n",
      "pattern recognition literature.  Fisher's paper is a classic in the field and\n",
      "is referenced frequently to this day.  (See Duda & Hart, for example.)  The\n",
      "data set contains 3 classes of 50 instances each, where each class refers to a\n",
      "type of iris plant.  One class is linearly separable from the other 2; the\n",
      "latter are NOT linearly separable from each other.\n",
      "\n",
      ".. topic:: References\n",
      "\n",
      "   - Fisher, R.A. \"The use of multiple measurements in taxonomic problems\"\n",
      "     Annual Eugenics, 7, Part II, 179-188 (1936); also in \"Contributions to\n",
      "     Mathematical Statistics\" (John Wiley, NY, 1950).\n",
      "   - Duda, R.O., & Hart, P.E. (1973) Pattern Classification and Scene Analysis.\n",
      "     (Q327.D83) John Wiley & Sons.  ISBN 0-471-22361-1.  See page 218.\n",
      "   - Dasarathy, B.V. (1980) \"Nosing Around the Neighborhood: A New System\n",
      "     Structure and Classification Rule for Recognition in Partially Exposed\n",
      "     Environments\".  IEEE Transactions on Pattern Analysis and Machine\n",
      "     Intelligence, Vol. PAMI-2, No. 1, 67-71.\n",
      "   - Gates, G.W. (1972) \"The Reduced Nearest Neighbor Rule\".  IEEE Transactions\n",
      "     on Information Theory, May 1972, 431-433.\n",
      "   - See also: 1988 MLC Proceedings, 54-64.  Cheeseman et al\"s AUTOCLASS II\n",
      "     conceptual clustering system finds 3 classes in the data.\n",
      "   - Many, many more ...\n"
     ]
    }
   ],
   "source": [
    "print(iris.DESCR)"
   ]
  },
  {
   "cell_type": "code",
   "execution_count": 8,
   "metadata": {},
   "outputs": [],
   "source": [
    "X=iris.data"
   ]
  },
  {
   "cell_type": "code",
   "execution_count": 10,
   "metadata": {},
   "outputs": [],
   "source": [
    "y=iris.target"
   ]
  },
  {
   "cell_type": "code",
   "execution_count": 12,
   "metadata": {},
   "outputs": [
    {
     "data": {
      "text/plain": [
       "array([0, 0, 0, 0, 0, 0, 0, 0, 0, 0, 0, 0, 0, 0, 0, 0, 0, 0, 0, 0, 0, 0,\n",
       "       0, 0, 0, 0, 0, 0, 0, 0, 0, 0, 0, 0, 0, 0, 0, 0, 0, 0, 0, 0, 0, 0,\n",
       "       0, 0, 0, 0, 0, 0, 1, 1, 1, 1, 1, 1, 1, 1, 1, 1, 1, 1, 1, 1, 1, 1,\n",
       "       1, 1, 1, 1, 1, 1, 1, 1, 1, 1, 1, 1, 1, 1, 1, 1, 1, 1, 1, 1, 1, 1,\n",
       "       1, 1, 1, 1, 1, 1, 1, 1, 1, 1, 1, 1, 2, 2, 2, 2, 2, 2, 2, 2, 2, 2,\n",
       "       2, 2, 2, 2, 2, 2, 2, 2, 2, 2, 2, 2, 2, 2, 2, 2, 2, 2, 2, 2, 2, 2,\n",
       "       2, 2, 2, 2, 2, 2, 2, 2, 2, 2, 2, 2, 2, 2, 2, 2, 2, 2])"
      ]
     },
     "execution_count": 12,
     "metadata": {},
     "output_type": "execute_result"
    }
   ],
   "source": [
    "y"
   ]
  },
  {
   "cell_type": "code",
   "execution_count": 13,
   "metadata": {},
   "outputs": [],
   "source": [
    "from keras.utils import to_categorical"
   ]
  },
  {
   "cell_type": "code",
   "execution_count": 14,
   "metadata": {},
   "outputs": [],
   "source": [
    "y=to_categorical(y)"
   ]
  },
  {
   "cell_type": "code",
   "execution_count": 15,
   "metadata": {},
   "outputs": [],
   "source": [
    "from sklearn.model_selection import train_test_split"
   ]
  },
  {
   "cell_type": "code",
   "execution_count": 16,
   "metadata": {},
   "outputs": [],
   "source": [
    "X_train, X_test, y_train, y_test = train_test_split(X, y, test_size=0.33, random_state=42)"
   ]
  },
  {
   "cell_type": "code",
   "execution_count": 18,
   "metadata": {},
   "outputs": [],
   "source": [
    "from sklearn.preprocessing import MinMaxScaler"
   ]
  },
  {
   "cell_type": "code",
   "execution_count": 19,
   "metadata": {},
   "outputs": [],
   "source": [
    "scaler_object=MinMaxScaler()"
   ]
  },
  {
   "cell_type": "code",
   "execution_count": 20,
   "metadata": {},
   "outputs": [
    {
     "data": {
      "text/plain": [
       "MinMaxScaler(copy=True, feature_range=(0, 1))"
      ]
     },
     "execution_count": 20,
     "metadata": {},
     "output_type": "execute_result"
    }
   ],
   "source": [
    "scaler_object.fit(X_train)"
   ]
  },
  {
   "cell_type": "code",
   "execution_count": 21,
   "metadata": {},
   "outputs": [],
   "source": [
    "scaled_X_train=scaler_object.transform(X_train)"
   ]
  },
  {
   "cell_type": "code",
   "execution_count": 22,
   "metadata": {},
   "outputs": [],
   "source": [
    "scaled_X_test=scaler_object.transform(X_test)"
   ]
  },
  {
   "cell_type": "code",
   "execution_count": 23,
   "metadata": {},
   "outputs": [
    {
     "data": {
      "text/plain": [
       "array([[0.41176471, 0.40909091, 0.55357143, 0.5       ],\n",
       "       [0.97058824, 0.45454545, 0.98214286, 0.83333333],\n",
       "       [0.38235294, 0.45454545, 0.60714286, 0.58333333],\n",
       "       [0.23529412, 0.68181818, 0.05357143, 0.04166667],\n",
       "       [1.        , 0.36363636, 1.        , 0.79166667],\n",
       "       [0.44117647, 0.31818182, 0.53571429, 0.375     ],\n",
       "       [0.26470588, 0.63636364, 0.05357143, 0.04166667],\n",
       "       [0.20588235, 0.68181818, 0.03571429, 0.08333333],\n",
       "       [0.23529412, 0.81818182, 0.14285714, 0.125     ],\n",
       "       [0.20588235, 0.        , 0.42857143, 0.375     ],\n",
       "       [0.58823529, 0.31818182, 0.67857143, 0.70833333],\n",
       "       [0.14705882, 0.63636364, 0.14285714, 0.04166667],\n",
       "       [0.20588235, 0.45454545, 0.08928571, 0.04166667],\n",
       "       [0.23529412, 0.59090909, 0.10714286, 0.16666667],\n",
       "       [0.38235294, 0.31818182, 0.55357143, 0.5       ],\n",
       "       [0.23529412, 0.63636364, 0.07142857, 0.04166667],\n",
       "       [0.41176471, 0.45454545, 0.55357143, 0.45833333],\n",
       "       [1.        , 0.81818182, 1.        , 0.875     ],\n",
       "       [0.08823529, 0.54545455, 0.05357143, 0.04166667],\n",
       "       [0.55882353, 0.40909091, 0.57142857, 0.5       ],\n",
       "       [0.41176471, 0.22727273, 0.69642857, 0.79166667],\n",
       "       [0.35294118, 1.        , 0.05357143, 0.04166667],\n",
       "       [0.5       , 0.45454545, 0.66071429, 0.70833333],\n",
       "       [0.44117647, 0.31818182, 0.71428571, 0.75      ],\n",
       "       [0.5       , 0.09090909, 0.51785714, 0.375     ],\n",
       "       [0.32352941, 0.45454545, 0.60714286, 0.58333333],\n",
       "       [0.55882353, 0.63636364, 0.76785714, 0.91666667],\n",
       "       [0.35294118, 0.13636364, 0.51785714, 0.5       ],\n",
       "       [0.32352941, 0.86363636, 0.10714286, 0.125     ],\n",
       "       [0.20588235, 0.13636364, 0.39285714, 0.375     ],\n",
       "       [0.61764706, 0.31818182, 0.75      , 0.75      ],\n",
       "       [0.20588235, 0.59090909, 0.05357143, 0.04166667],\n",
       "       [0.20588235, 0.54545455, 0.01785714, 0.04166667],\n",
       "       [0.35294118, 0.18181818, 0.48214286, 0.41666667],\n",
       "       [0.70588235, 0.45454545, 0.69642857, 0.66666667],\n",
       "       [0.17647059, 0.5       , 0.07142857, 0.04166667],\n",
       "       [0.44117647, 0.36363636, 0.71428571, 0.95833333],\n",
       "       [0.20588235, 0.63636364, 0.07142857, 0.04166667],\n",
       "       [0.20588235, 0.68181818, 0.08928571, 0.20833333],\n",
       "       [0.47058824, 0.54545455, 0.66071429, 0.70833333],\n",
       "       [0.23529412, 0.22727273, 0.33928571, 0.41666667],\n",
       "       [0.76470588, 0.54545455, 0.82142857, 0.91666667],\n",
       "       [0.5       , 0.31818182, 0.71428571, 0.625     ],\n",
       "       [0.52941176, 0.27272727, 0.80357143, 0.54166667],\n",
       "       [1.        , 0.45454545, 0.89285714, 0.91666667],\n",
       "       [0.35294118, 0.22727273, 0.51785714, 0.5       ],\n",
       "       [0.02941176, 0.40909091, 0.05357143, 0.04166667],\n",
       "       [0.        , 0.45454545, 0.        , 0.        ],\n",
       "       [0.5       , 0.09090909, 0.69642857, 0.58333333],\n",
       "       [0.85294118, 0.54545455, 0.875     , 0.70833333],\n",
       "       [0.08823529, 0.5       , 0.07142857, 0.04166667],\n",
       "       [0.23529412, 0.68181818, 0.05357143, 0.08333333],\n",
       "       [0.02941176, 0.45454545, 0.03571429, 0.04166667],\n",
       "       [0.58823529, 0.22727273, 0.67857143, 0.58333333],\n",
       "       [0.58823529, 0.63636364, 0.80357143, 0.95833333],\n",
       "       [0.08823529, 0.63636364, 0.05357143, 0.08333333],\n",
       "       [0.73529412, 0.45454545, 0.78571429, 0.83333333],\n",
       "       [0.58823529, 0.59090909, 0.875     , 1.        ],\n",
       "       [0.11764706, 0.54545455, 0.03571429, 0.04166667],\n",
       "       [0.52941176, 0.40909091, 0.64285714, 0.54166667],\n",
       "       [0.64705882, 0.36363636, 0.625     , 0.58333333],\n",
       "       [0.55882353, 0.36363636, 0.66071429, 0.70833333],\n",
       "       [0.79411765, 0.54545455, 0.64285714, 0.54166667],\n",
       "       [0.61764706, 0.54545455, 0.75      , 0.91666667],\n",
       "       [0.23529412, 0.81818182, 0.08928571, 0.04166667],\n",
       "       [0.76470588, 0.5       , 0.76785714, 0.83333333],\n",
       "       [0.47058824, 0.45454545, 0.55357143, 0.58333333],\n",
       "       [0.64705882, 0.45454545, 0.73214286, 0.79166667],\n",
       "       [0.41176471, 0.27272727, 0.42857143, 0.375     ],\n",
       "       [0.26470588, 0.31818182, 0.5       , 0.54166667],\n",
       "       [0.52941176, 0.45454545, 0.625     , 0.54166667],\n",
       "       [0.05882353, 0.13636364, 0.03571429, 0.08333333],\n",
       "       [0.67647059, 0.40909091, 0.625     , 0.5       ],\n",
       "       [0.35294118, 0.27272727, 0.58928571, 0.45833333],\n",
       "       [0.29411765, 0.77272727, 0.07142857, 0.04166667],\n",
       "       [0.38235294, 0.45454545, 0.53571429, 0.5       ],\n",
       "       [0.88235294, 0.40909091, 0.92857143, 0.70833333],\n",
       "       [0.70588235, 0.59090909, 0.82142857, 0.83333333],\n",
       "       [0.23529412, 0.77272727, 0.07142857, 0.125     ],\n",
       "       [0.17647059, 0.18181818, 0.39285714, 0.375     ],\n",
       "       [0.70588235, 0.59090909, 0.82142857, 1.        ],\n",
       "       [0.85294118, 0.45454545, 0.83928571, 0.625     ],\n",
       "       [0.17647059, 0.72727273, 0.05357143, 0.        ],\n",
       "       [0.70588235, 0.5       , 0.80357143, 0.95833333],\n",
       "       [0.17647059, 0.45454545, 0.05357143, 0.04166667],\n",
       "       [0.76470588, 0.5       , 0.67857143, 0.58333333],\n",
       "       [0.91176471, 0.36363636, 0.89285714, 0.75      ],\n",
       "       [0.58823529, 0.40909091, 0.80357143, 0.70833333],\n",
       "       [0.41176471, 0.36363636, 0.53571429, 0.5       ],\n",
       "       [0.64705882, 0.45454545, 0.78571429, 0.70833333],\n",
       "       [0.58823529, 0.13636364, 0.58928571, 0.5       ],\n",
       "       [0.61764706, 0.40909091, 0.57142857, 0.5       ],\n",
       "       [0.38235294, 0.36363636, 0.67857143, 0.79166667],\n",
       "       [0.47058824, 0.45454545, 0.71428571, 0.70833333],\n",
       "       [0.32352941, 0.63636364, 0.10714286, 0.04166667],\n",
       "       [0.52941176, 0.36363636, 0.51785714, 0.5       ],\n",
       "       [0.17647059, 0.22727273, 0.60714286, 0.66666667],\n",
       "       [0.44117647, 0.90909091, 0.01785714, 0.04166667],\n",
       "       [0.44117647, 0.27272727, 0.51785714, 0.45833333],\n",
       "       [0.82352941, 0.45454545, 0.85714286, 0.83333333]])"
      ]
     },
     "execution_count": 23,
     "metadata": {},
     "output_type": "execute_result"
    }
   ],
   "source": [
    "scaled_X_train"
   ]
  },
  {
   "cell_type": "code",
   "execution_count": 24,
   "metadata": {},
   "outputs": [],
   "source": [
    "from keras.models import Sequential\n",
    "from keras.layers import Dense"
   ]
  },
  {
   "cell_type": "code",
   "execution_count": 25,
   "metadata": {},
   "outputs": [
    {
     "name": "stderr",
     "output_type": "stream",
     "text": [
      "WARNING: Logging before flag parsing goes to stderr.\n",
      "W0807 17:21:37.663451 16064 deprecation_wrapper.py:119] From C:\\ProgramData\\Anaconda3\\lib\\site-packages\\keras\\backend\\tensorflow_backend.py:74: The name tf.get_default_graph is deprecated. Please use tf.compat.v1.get_default_graph instead.\n",
      "\n",
      "W0807 17:21:38.269777 16064 deprecation_wrapper.py:119] From C:\\ProgramData\\Anaconda3\\lib\\site-packages\\keras\\backend\\tensorflow_backend.py:517: The name tf.placeholder is deprecated. Please use tf.compat.v1.placeholder instead.\n",
      "\n",
      "W0807 17:21:38.439360 16064 deprecation_wrapper.py:119] From C:\\ProgramData\\Anaconda3\\lib\\site-packages\\keras\\backend\\tensorflow_backend.py:4138: The name tf.random_uniform is deprecated. Please use tf.random.uniform instead.\n",
      "\n",
      "W0807 17:21:38.759948 16064 deprecation_wrapper.py:119] From C:\\ProgramData\\Anaconda3\\lib\\site-packages\\keras\\optimizers.py:790: The name tf.train.Optimizer is deprecated. Please use tf.compat.v1.train.Optimizer instead.\n",
      "\n",
      "W0807 17:21:38.859679 16064 deprecation_wrapper.py:119] From C:\\ProgramData\\Anaconda3\\lib\\site-packages\\keras\\backend\\tensorflow_backend.py:3295: The name tf.log is deprecated. Please use tf.math.log instead.\n",
      "\n"
     ]
    }
   ],
   "source": [
    "model = Sequential()\n",
    "model.add(Dense(8,input_dim=4,activation='relu'))\n",
    "model.add(Dense(8,input_dim=4,activation='relu'))\n",
    "model.add(Dense(3,activation='softmax'))\n",
    "model.compile(loss='categorical_crossentropy',optimizer='adam',metrics=['accuracy'])"
   ]
  },
  {
   "cell_type": "code",
   "execution_count": 26,
   "metadata": {},
   "outputs": [
    {
     "name": "stdout",
     "output_type": "stream",
     "text": [
      "_________________________________________________________________\n",
      "Layer (type)                 Output Shape              Param #   \n",
      "=================================================================\n",
      "dense_1 (Dense)              (None, 8)                 40        \n",
      "_________________________________________________________________\n",
      "dense_2 (Dense)              (None, 8)                 72        \n",
      "_________________________________________________________________\n",
      "dense_3 (Dense)              (None, 3)                 27        \n",
      "=================================================================\n",
      "Total params: 139\n",
      "Trainable params: 139\n",
      "Non-trainable params: 0\n",
      "_________________________________________________________________\n"
     ]
    }
   ],
   "source": [
    "model.summary()"
   ]
  },
  {
   "cell_type": "code",
   "execution_count": 27,
   "metadata": {},
   "outputs": [
    {
     "name": "stderr",
     "output_type": "stream",
     "text": [
      "W0807 17:23:15.106292 16064 deprecation.py:323] From C:\\ProgramData\\Anaconda3\\lib\\site-packages\\tensorflow\\python\\ops\\math_grad.py:1250: add_dispatch_support.<locals>.wrapper (from tensorflow.python.ops.array_ops) is deprecated and will be removed in a future version.\n",
      "Instructions for updating:\n",
      "Use tf.where in 2.0, which has the same broadcast rule as np.where\n",
      "W0807 17:23:15.226968 16064 deprecation_wrapper.py:119] From C:\\ProgramData\\Anaconda3\\lib\\site-packages\\keras\\backend\\tensorflow_backend.py:986: The name tf.assign_add is deprecated. Please use tf.compat.v1.assign_add instead.\n",
      "\n"
     ]
    },
    {
     "name": "stdout",
     "output_type": "stream",
     "text": [
      "Epoch 1/150\n",
      " - 2s - loss: 1.0542 - acc: 0.3400\n",
      "Epoch 2/150\n",
      " - 0s - loss: 1.0481 - acc: 0.3400\n",
      "Epoch 3/150\n",
      " - 0s - loss: 1.0421 - acc: 0.3400\n",
      "Epoch 4/150\n",
      " - 0s - loss: 1.0358 - acc: 0.3400\n",
      "Epoch 5/150\n",
      " - 0s - loss: 1.0298 - acc: 0.3400\n",
      "Epoch 6/150\n",
      " - 0s - loss: 1.0249 - acc: 0.3500\n",
      "Epoch 7/150\n",
      " - 0s - loss: 1.0191 - acc: 0.3500\n",
      "Epoch 8/150\n",
      " - 0s - loss: 1.0142 - acc: 0.3400\n",
      "Epoch 9/150\n",
      " - 0s - loss: 1.0089 - acc: 0.3400\n",
      "Epoch 10/150\n",
      " - 0s - loss: 1.0041 - acc: 0.3400\n",
      "Epoch 11/150\n",
      " - 0s - loss: 0.9993 - acc: 0.3400\n",
      "Epoch 12/150\n",
      " - 0s - loss: 0.9948 - acc: 0.3400\n",
      "Epoch 13/150\n",
      " - 0s - loss: 0.9903 - acc: 0.3400\n",
      "Epoch 14/150\n",
      " - 0s - loss: 0.9858 - acc: 0.3400\n",
      "Epoch 15/150\n",
      " - 0s - loss: 0.9814 - acc: 0.3700\n",
      "Epoch 16/150\n",
      " - 0s - loss: 0.9772 - acc: 0.4100\n",
      "Epoch 17/150\n",
      " - 0s - loss: 0.9727 - acc: 0.4000\n",
      "Epoch 18/150\n",
      " - 0s - loss: 0.9678 - acc: 0.4300\n",
      "Epoch 19/150\n",
      " - 0s - loss: 0.9628 - acc: 0.4400\n",
      "Epoch 20/150\n",
      " - 0s - loss: 0.9574 - acc: 0.5000\n",
      "Epoch 21/150\n",
      " - 0s - loss: 0.9522 - acc: 0.5300\n",
      "Epoch 22/150\n",
      " - 0s - loss: 0.9469 - acc: 0.5700\n",
      "Epoch 23/150\n",
      " - 0s - loss: 0.9417 - acc: 0.5800\n",
      "Epoch 24/150\n",
      " - 0s - loss: 0.9367 - acc: 0.5700\n",
      "Epoch 25/150\n",
      " - 0s - loss: 0.9314 - acc: 0.5700\n",
      "Epoch 26/150\n",
      " - 0s - loss: 0.9265 - acc: 0.6100\n",
      "Epoch 27/150\n",
      " - 0s - loss: 0.9214 - acc: 0.6200\n",
      "Epoch 28/150\n",
      " - 0s - loss: 0.9163 - acc: 0.6200\n",
      "Epoch 29/150\n",
      " - 0s - loss: 0.9104 - acc: 0.6200\n",
      "Epoch 30/150\n",
      " - 0s - loss: 0.9046 - acc: 0.6500\n",
      "Epoch 31/150\n",
      " - 0s - loss: 0.8985 - acc: 0.6300\n",
      "Epoch 32/150\n",
      " - 0s - loss: 0.8924 - acc: 0.6400\n",
      "Epoch 33/150\n",
      " - 0s - loss: 0.8858 - acc: 0.6500\n",
      "Epoch 34/150\n",
      " - 0s - loss: 0.8786 - acc: 0.6500\n",
      "Epoch 35/150\n",
      " - 0s - loss: 0.8710 - acc: 0.6600\n",
      "Epoch 36/150\n",
      " - 0s - loss: 0.8632 - acc: 0.6700\n",
      "Epoch 37/150\n",
      " - 0s - loss: 0.8552 - acc: 0.6700\n",
      "Epoch 38/150\n",
      " - 0s - loss: 0.8471 - acc: 0.6800\n",
      "Epoch 39/150\n",
      " - 0s - loss: 0.8392 - acc: 0.6900\n",
      "Epoch 40/150\n",
      " - 0s - loss: 0.8302 - acc: 0.6900\n",
      "Epoch 41/150\n",
      " - 0s - loss: 0.8207 - acc: 0.6900\n",
      "Epoch 42/150\n",
      " - 0s - loss: 0.8112 - acc: 0.6800\n",
      "Epoch 43/150\n",
      " - 0s - loss: 0.8009 - acc: 0.6800\n",
      "Epoch 44/150\n",
      " - 0s - loss: 0.7910 - acc: 0.6800\n",
      "Epoch 45/150\n",
      " - 0s - loss: 0.7810 - acc: 0.6700\n",
      "Epoch 46/150\n",
      " - 0s - loss: 0.7709 - acc: 0.6700\n",
      "Epoch 47/150\n",
      " - 0s - loss: 0.7615 - acc: 0.6900\n",
      "Epoch 48/150\n",
      " - 0s - loss: 0.7522 - acc: 0.6700\n",
      "Epoch 49/150\n",
      " - 0s - loss: 0.7432 - acc: 0.7000\n",
      "Epoch 50/150\n",
      " - 0s - loss: 0.7342 - acc: 0.7000\n",
      "Epoch 51/150\n",
      " - 0s - loss: 0.7253 - acc: 0.7000\n",
      "Epoch 52/150\n",
      " - 0s - loss: 0.7170 - acc: 0.7000\n",
      "Epoch 53/150\n",
      " - 0s - loss: 0.7083 - acc: 0.7100\n",
      "Epoch 54/150\n",
      " - 0s - loss: 0.7001 - acc: 0.7100\n",
      "Epoch 55/150\n",
      " - 0s - loss: 0.6922 - acc: 0.6900\n",
      "Epoch 56/150\n",
      " - 0s - loss: 0.6847 - acc: 0.6900\n",
      "Epoch 57/150\n",
      " - 0s - loss: 0.6765 - acc: 0.7000\n",
      "Epoch 58/150\n",
      " - 0s - loss: 0.6687 - acc: 0.7000\n",
      "Epoch 59/150\n",
      " - 0s - loss: 0.6610 - acc: 0.7000\n",
      "Epoch 60/150\n",
      " - 0s - loss: 0.6534 - acc: 0.7100\n",
      "Epoch 61/150\n",
      " - 0s - loss: 0.6468 - acc: 0.7100\n",
      "Epoch 62/150\n",
      " - 0s - loss: 0.6402 - acc: 0.7100\n",
      "Epoch 63/150\n",
      " - 0s - loss: 0.6336 - acc: 0.7300\n",
      "Epoch 64/150\n",
      " - 0s - loss: 0.6269 - acc: 0.7200\n",
      "Epoch 65/150\n",
      " - 0s - loss: 0.6211 - acc: 0.7100\n",
      "Epoch 66/150\n",
      " - 0s - loss: 0.6143 - acc: 0.7000\n",
      "Epoch 67/150\n",
      " - 0s - loss: 0.6084 - acc: 0.7000\n",
      "Epoch 68/150\n",
      " - 0s - loss: 0.6026 - acc: 0.6900\n",
      "Epoch 69/150\n",
      " - 0s - loss: 0.5970 - acc: 0.6800\n",
      "Epoch 70/150\n",
      " - 0s - loss: 0.5917 - acc: 0.6700\n",
      "Epoch 71/150\n",
      " - 0s - loss: 0.5865 - acc: 0.6700\n",
      "Epoch 72/150\n",
      " - 0s - loss: 0.5814 - acc: 0.6700\n",
      "Epoch 73/150\n",
      " - 0s - loss: 0.5768 - acc: 0.6800\n",
      "Epoch 74/150\n",
      " - 0s - loss: 0.5721 - acc: 0.6800\n",
      "Epoch 75/150\n",
      " - 0s - loss: 0.5683 - acc: 0.6800\n",
      "Epoch 76/150\n",
      " - 0s - loss: 0.5642 - acc: 0.6800\n",
      "Epoch 77/150\n",
      " - 0s - loss: 0.5597 - acc: 0.6800\n",
      "Epoch 78/150\n",
      " - 0s - loss: 0.5557 - acc: 0.6900\n",
      "Epoch 79/150\n",
      " - 0s - loss: 0.5519 - acc: 0.6800\n",
      "Epoch 80/150\n",
      " - 0s - loss: 0.5478 - acc: 0.6800\n",
      "Epoch 81/150\n",
      " - 0s - loss: 0.5445 - acc: 0.6800\n",
      "Epoch 82/150\n",
      " - 0s - loss: 0.5408 - acc: 0.6800\n",
      "Epoch 83/150\n",
      " - 0s - loss: 0.5376 - acc: 0.6800\n",
      "Epoch 84/150\n",
      " - 0s - loss: 0.5344 - acc: 0.6800\n",
      "Epoch 85/150\n",
      " - 0s - loss: 0.5311 - acc: 0.6800\n",
      "Epoch 86/150\n",
      " - 0s - loss: 0.5281 - acc: 0.6800\n",
      "Epoch 87/150\n",
      " - 0s - loss: 0.5252 - acc: 0.6900\n",
      "Epoch 88/150\n",
      " - 0s - loss: 0.5235 - acc: 0.6800\n",
      "Epoch 89/150\n",
      " - 0s - loss: 0.5210 - acc: 0.6700\n",
      "Epoch 90/150\n",
      " - 0s - loss: 0.5184 - acc: 0.6700\n",
      "Epoch 91/150\n",
      " - 0s - loss: 0.5157 - acc: 0.6800\n",
      "Epoch 92/150\n",
      " - 0s - loss: 0.5131 - acc: 0.6900\n",
      "Epoch 93/150\n",
      " - 0s - loss: 0.5103 - acc: 0.6900\n",
      "Epoch 94/150\n",
      " - 0s - loss: 0.5079 - acc: 0.6900\n",
      "Epoch 95/150\n",
      " - 0s - loss: 0.5055 - acc: 0.6900\n",
      "Epoch 96/150\n",
      " - 0s - loss: 0.5033 - acc: 0.6900\n",
      "Epoch 97/150\n",
      " - 0s - loss: 0.5007 - acc: 0.6900\n",
      "Epoch 98/150\n",
      " - 0s - loss: 0.4986 - acc: 0.7100\n",
      "Epoch 99/150\n",
      " - 0s - loss: 0.4964 - acc: 0.7100\n",
      "Epoch 100/150\n",
      " - 0s - loss: 0.4942 - acc: 0.7200\n",
      "Epoch 101/150\n",
      " - 0s - loss: 0.4918 - acc: 0.7400\n",
      "Epoch 102/150\n",
      " - 0s - loss: 0.4904 - acc: 0.7500\n",
      "Epoch 103/150\n",
      " - 0s - loss: 0.4885 - acc: 0.7500\n",
      "Epoch 104/150\n",
      " - 0s - loss: 0.4866 - acc: 0.7500\n",
      "Epoch 105/150\n",
      " - 0s - loss: 0.4848 - acc: 0.7500\n",
      "Epoch 106/150\n",
      " - 0s - loss: 0.4831 - acc: 0.7500\n",
      "Epoch 107/150\n",
      " - 0s - loss: 0.4814 - acc: 0.7900\n",
      "Epoch 108/150\n",
      " - 0s - loss: 0.4797 - acc: 0.7900\n",
      "Epoch 109/150\n",
      " - 0s - loss: 0.4781 - acc: 0.8000\n",
      "Epoch 110/150\n",
      " - 0s - loss: 0.4764 - acc: 0.8200\n",
      "Epoch 111/150\n",
      " - 0s - loss: 0.4746 - acc: 0.8200\n",
      "Epoch 112/150\n",
      " - 0s - loss: 0.4727 - acc: 0.8000\n",
      "Epoch 113/150\n",
      " - 0s - loss: 0.4713 - acc: 0.7800\n",
      "Epoch 114/150\n",
      " - 0s - loss: 0.4698 - acc: 0.8200\n",
      "Epoch 115/150\n",
      " - 0s - loss: 0.4684 - acc: 0.8400\n",
      "Epoch 116/150\n",
      " - 0s - loss: 0.4671 - acc: 0.8400\n",
      "Epoch 117/150\n",
      " - 0s - loss: 0.4654 - acc: 0.8300\n",
      "Epoch 118/150\n",
      " - 0s - loss: 0.4638 - acc: 0.8400\n",
      "Epoch 119/150\n",
      " - 0s - loss: 0.4623 - acc: 0.8300\n",
      "Epoch 120/150\n",
      " - 0s - loss: 0.4608 - acc: 0.8300\n",
      "Epoch 121/150\n",
      " - 0s - loss: 0.4597 - acc: 0.8300\n",
      "Epoch 122/150\n",
      " - 0s - loss: 0.4578 - acc: 0.8300\n",
      "Epoch 123/150\n",
      " - 0s - loss: 0.4562 - acc: 0.8300\n",
      "Epoch 124/150\n",
      " - 0s - loss: 0.4548 - acc: 0.8300\n",
      "Epoch 125/150\n",
      " - 0s - loss: 0.4535 - acc: 0.7900\n",
      "Epoch 126/150\n",
      " - 0s - loss: 0.4528 - acc: 0.7100\n",
      "Epoch 127/150\n",
      " - 0s - loss: 0.4531 - acc: 0.7100\n",
      "Epoch 128/150\n",
      " - 0s - loss: 0.4509 - acc: 0.7100\n",
      "Epoch 129/150\n",
      " - 0s - loss: 0.4497 - acc: 0.7200\n",
      "Epoch 130/150\n",
      " - 0s - loss: 0.4467 - acc: 0.8100\n",
      "Epoch 131/150\n",
      " - 0s - loss: 0.4453 - acc: 0.8300\n",
      "Epoch 132/150\n",
      " - 0s - loss: 0.4435 - acc: 0.8300\n",
      "Epoch 133/150\n",
      " - 0s - loss: 0.4424 - acc: 0.8300\n",
      "Epoch 134/150\n",
      " - 0s - loss: 0.4411 - acc: 0.8400\n",
      "Epoch 135/150\n",
      " - 0s - loss: 0.4392 - acc: 0.8400\n",
      "Epoch 136/150\n",
      " - 0s - loss: 0.4376 - acc: 0.8300\n",
      "Epoch 137/150\n",
      " - 0s - loss: 0.4367 - acc: 0.8200\n",
      "Epoch 138/150\n",
      " - 0s - loss: 0.4351 - acc: 0.8100\n",
      "Epoch 139/150\n",
      " - 0s - loss: 0.4314 - acc: 0.8100\n",
      "Epoch 140/150\n",
      " - 0s - loss: 0.4248 - acc: 0.8300\n",
      "Epoch 141/150\n",
      " - 0s - loss: 0.4196 - acc: 0.9000\n",
      "Epoch 142/150\n",
      " - 0s - loss: 0.4183 - acc: 0.9000\n",
      "Epoch 143/150\n",
      " - 0s - loss: 0.4159 - acc: 0.8800\n",
      "Epoch 144/150\n",
      " - 0s - loss: 0.4133 - acc: 0.8900\n",
      "Epoch 145/150\n",
      " - 0s - loss: 0.4108 - acc: 0.9000\n",
      "Epoch 146/150\n",
      " - 0s - loss: 0.4087 - acc: 0.9000\n",
      "Epoch 147/150\n",
      " - 0s - loss: 0.4069 - acc: 0.8900\n",
      "Epoch 148/150\n",
      " - 0s - loss: 0.4044 - acc: 0.8600\n",
      "Epoch 149/150\n",
      " - 0s - loss: 0.4054 - acc: 0.8300\n",
      "Epoch 150/150\n",
      " - 0s - loss: 0.4056 - acc: 0.8300\n"
     ]
    },
    {
     "data": {
      "text/plain": [
       "<keras.callbacks.History at 0x1a83dd14e10>"
      ]
     },
     "execution_count": 27,
     "metadata": {},
     "output_type": "execute_result"
    }
   ],
   "source": [
    "model.fit(scaled_X_train,y_train,epochs=150,verbose=2)"
   ]
  },
  {
   "cell_type": "code",
   "execution_count": 29,
   "metadata": {},
   "outputs": [],
   "source": [
    "predictions=model.predict_classes(scaled_X_test)"
   ]
  },
  {
   "cell_type": "code",
   "execution_count": 32,
   "metadata": {},
   "outputs": [],
   "source": [
    "y_test=y_test.argmax(axis=1)"
   ]
  },
  {
   "cell_type": "code",
   "execution_count": 33,
   "metadata": {},
   "outputs": [],
   "source": [
    "from sklearn.metrics import confusion_matrix,accuracy_score,classification_report"
   ]
  },
  {
   "cell_type": "code",
   "execution_count": 34,
   "metadata": {},
   "outputs": [
    {
     "data": {
      "text/plain": [
       "array([[19,  0,  0],\n",
       "       [ 0,  5, 10],\n",
       "       [ 0,  0, 16]], dtype=int64)"
      ]
     },
     "execution_count": 34,
     "metadata": {},
     "output_type": "execute_result"
    }
   ],
   "source": [
    "confusion_matrix(y_test,predictions)"
   ]
  },
  {
   "cell_type": "code",
   "execution_count": 35,
   "metadata": {},
   "outputs": [
    {
     "data": {
      "text/plain": [
       "0.8"
      ]
     },
     "execution_count": 35,
     "metadata": {},
     "output_type": "execute_result"
    }
   ],
   "source": [
    "accuracy_score(y_test,predictions)"
   ]
  },
  {
   "cell_type": "code",
   "execution_count": 37,
   "metadata": {},
   "outputs": [
    {
     "name": "stdout",
     "output_type": "stream",
     "text": [
      "              precision    recall  f1-score   support\n",
      "\n",
      "           0       1.00      1.00      1.00        19\n",
      "           1       1.00      0.33      0.50        15\n",
      "           2       0.62      1.00      0.76        16\n",
      "\n",
      "   micro avg       0.80      0.80      0.80        50\n",
      "   macro avg       0.87      0.78      0.75        50\n",
      "weighted avg       0.88      0.80      0.77        50\n",
      "\n"
     ]
    }
   ],
   "source": [
    "print(classification_report(y_test,predictions))"
   ]
  },
  {
   "cell_type": "code",
   "execution_count": 38,
   "metadata": {},
   "outputs": [],
   "source": [
    "model.save('iris_model.h5')"
   ]
  },
  {
   "cell_type": "code",
   "execution_count": 39,
   "metadata": {},
   "outputs": [],
   "source": [
    "from keras.models import load_model"
   ]
  },
  {
   "cell_type": "code",
   "execution_count": 40,
   "metadata": {},
   "outputs": [],
   "source": [
    "new_model=load_model('iris_model.h5')"
   ]
  },
  {
   "cell_type": "code",
   "execution_count": null,
   "metadata": {},
   "outputs": [],
   "source": []
  }
 ],
 "metadata": {
  "kernelspec": {
   "display_name": "Python 3",
   "language": "python",
   "name": "python3"
  },
  "language_info": {
   "codemirror_mode": {
    "name": "ipython",
    "version": 3
   },
   "file_extension": ".py",
   "mimetype": "text/x-python",
   "name": "python",
   "nbconvert_exporter": "python",
   "pygments_lexer": "ipython3",
   "version": "3.7.3"
  }
 },
 "nbformat": 4,
 "nbformat_minor": 2
}
